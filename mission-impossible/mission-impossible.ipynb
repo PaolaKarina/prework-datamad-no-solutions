{
 "cells": [
  {
   "cell_type": "markdown",
   "metadata": {},
   "source": [
    "# Mission Impossible\n",
    "\n",
    "## Intro\n",
    "*Good morning, Mr. Hunt. Your mission, should you choose to accept it, involves the recovery of a stolen item designated \"Chimera.\" You may select any two team members, but it is essential that the third member of your team be Nyah Nordoff-Hall. She is a civilian, and a highly capable professional thief. You have forty-eight hours to recruit Miss Hall and meet me in Seville to receive your assignment. As always, should any member of your team be caught or killed, the Secretary will disavow all knowledge of your actions. And Mr. Hunt, the next time you go on holiday, please be good enough to let us know where you're going. This message will self-destruct in five seconds.*\n",
    "\n",
    "<img src=\"images/mission-impossible.jpg\" width=\"400\">\n",
    "\n",
    "\n",
    "## Problem\n",
    "You are the computer scientist who has to protect valuable national intelligence data. This data is in a computer without internet connection in a room with a tactile floor that detects the pressure. But you've discovered that more than one spy has infiltrated and stolen data, so you have to implement and test the new security system.\n",
    "\n",
    "An ultrasensitive microphone has been installed that records all sound in the room. The list of sounds is stored in a list called dbs. As soon as the door closes it will alert if noise is detected above a threshold of 10 decibels: the alarm will sound and alert the entire building.\n",
    "\n",
    "Each item in the dbs list corresponds to a 5 second interval\n",
    "```\n",
    "dbs = [0, 1, 0, 0, 0, 0, 1, 0, 1, 23, 1, 0, 1, 1, 0, 0, 0, \n",
    "       1, 1, 0, 20, 1, 1, 15, 1, 0, 0, 0, 40, 15, 0, 0]\n",
    "```\n"
   ]
  },
  {
   "cell_type": "code",
   "execution_count": 34,
   "metadata": {},
   "outputs": [],
   "source": [
    "# Variables\n",
    "\n",
    "dbs = [0, 1, 0, 0, 0, 0, 1, 0, 1, 23, 1, 0, 1, 1, 0, 0, 0, \n",
    "       1, 1, 0, 20, 1, 1, 15, 1, 0, 0, 0, 40, 15, 0, 0]"
   ]
  },
  {
   "cell_type": "code",
   "execution_count": 37,
   "metadata": {},
   "outputs": [
    {
     "name": "stdout",
     "output_type": "stream",
     "text": [
      "[23, 20, 15, 40, 15]\n"
     ]
    }
   ],
   "source": [
    "# Show volumes that exceed 10 dBs\n",
    "dbs_exceed=[]\n",
    "    \n",
    "for decibels in dbs:\n",
    "    if decibels >10:\n",
    "        dbs_exceed.append(decibels)\n",
    "print(dbs_exceed)       \n",
    "         "
   ]
  },
  {
   "cell_type": "markdown",
   "metadata": {},
   "source": [
    "**Expected output**: \n",
    "```\n",
    "[23, 20, 15, 40, 15]\n",
    "```"
   ]
  },
  {
   "cell_type": "code",
   "execution_count": 38,
   "metadata": {},
   "outputs": [
    {
     "name": "stdout",
     "output_type": "stream",
     "text": [
      "[9, 20, 23, 28, 29]\n"
     ]
    }
   ],
   "source": [
    "# Show the moments (indexs of the list) in which a volume exceeds 10 dBs\n",
    "dbs_exceed_moment = []\n",
    "moment_active = 0\n",
    "\n",
    "for indexs in dbs:\n",
    "    if indexs > 10:\n",
    "        dbs_exceed_moment.append(moment_active)\n",
    "    moment_active += 1\n",
    "    \n",
    "print(dbs_exceed_moment)"
   ]
  },
  {
   "cell_type": "markdown",
   "metadata": {},
   "source": [
    "**Expected output**: \n",
    "```\n",
    "[9, 20, 23, 28, 29]\n",
    "```"
   ]
  },
  {
   "cell_type": "code",
   "execution_count": 33,
   "metadata": {},
   "outputs": [
    {
     "ename": "TypeError",
     "evalue": "'list' object cannot be interpreted as an integer",
     "output_type": "error",
     "traceback": [
      "\u001b[1;31m---------------------------------------------------------------------------\u001b[0m",
      "\u001b[1;31mTypeError\u001b[0m                                 Traceback (most recent call last)",
      "\u001b[1;32m<ipython-input-33-6691e8cec643>\u001b[0m in \u001b[0;36m<module>\u001b[1;34m\u001b[0m\n\u001b[0;32m      1\u001b[0m \u001b[1;31m# Combine the last two exercises to show the moments when a\u001b[0m\u001b[1;33m\u001b[0m\u001b[1;33m\u001b[0m\u001b[1;33m\u001b[0m\u001b[0m\n\u001b[0;32m      2\u001b[0m \u001b[1;31m# volume exceeds 10 dBs. HINT: Use the enumerate function\u001b[0m\u001b[1;33m\u001b[0m\u001b[1;33m\u001b[0m\u001b[1;33m\u001b[0m\u001b[0m\n\u001b[1;32m----> 3\u001b[1;33m \u001b[0mrange\u001b[0m\u001b[1;33m(\u001b[0m\u001b[0mdbs_exceed\u001b[0m\u001b[1;33m,\u001b[0m \u001b[0mdbs_exceed_moment\u001b[0m\u001b[1;33m)\u001b[0m\u001b[1;33m\u001b[0m\u001b[1;33m\u001b[0m\u001b[0m\n\u001b[0m",
      "\u001b[1;31mTypeError\u001b[0m: 'list' object cannot be interpreted as an integer"
     ]
    }
   ],
   "source": [
    "# Combine the last two exercises to show the moments when a \n",
    "# volume exceeds 10 dBs. HINT: Use the enumerate function\n",
    "range_index_exceed= []\n",
    "\n",
    "if dbs_exceed_moment == dbs_exceed:\n",
    "    range(dbs_exceed_moment,dbs_exceed)\n"
   ]
  },
  {
   "cell_type": "markdown",
   "metadata": {},
   "source": [
    "**Expected output**: \n",
    "```\n",
    "[(9, 23), (20, 20), (23, 15), (28, 40), (29, 15)]\n",
    "```"
   ]
  },
  {
   "cell_type": "code",
   "execution_count": 5,
   "metadata": {},
   "outputs": [],
   "source": [
    "# Ethan is discovered if two consecutive volumes are greater than 10 dB. Is he safe? \n",
    "# HINT: Beware of the extremes, do not have an error of the type\n",
    "# IndexError: list index out of range\n"
   ]
  },
  {
   "cell_type": "markdown",
   "metadata": {},
   "source": [
    "**Expected output**: \n",
    "```\n",
    "Alarm!\n",
    "```"
   ]
  },
  {
   "cell_type": "markdown",
   "metadata": {},
   "source": [
    "## LINKS\n",
    "\n",
    "* Enumerate: https://www.programiz.com/python-programming/methods/built-in/enumerate\n",
    "* Decibel: https://en.wikipedia.org/wiki/Decibel\n",
    "\n",
    "## Goals\n",
    "\n",
    "1. Treatment of lists\n",
    "2. Use of for loop\n",
    "3. Use of conditional if-elif-else\n",
    "4. Use of the functions range(), len()\n",
    "5. Use of print()\n",
    "6. Use of enumerate()\n",
    "\n",
    "\n",
    "## Bonus\n",
    "Now you have the role of Ethan's hacker. To cheat the security system you are going to execute a computer code on the list dbs and you are going to **reduce** all values higher than 20 in 12 dBs but the ones higher than 30 in 18 dBs. Then confirm the result of your operation by printing the new modified dbs list on the screen."
   ]
  },
  {
   "cell_type": "code",
   "execution_count": 6,
   "metadata": {},
   "outputs": [],
   "source": [
    "# Your code here\n"
   ]
  },
  {
   "cell_type": "markdown",
   "metadata": {},
   "source": [
    "**Expected output**: \n",
    "```\n",
    "Pre hacking: \n",
    "[0, 1, 0, 0, 0, 0, 1, 0, 1, 23, 1, 0, 1, 1, 0, 0, 0, 1, 1, 0, 20, 1, 1, 15, 1, 0, 0, 0, 40, 15, 0, 0]\n",
    "Post hacking: \n",
    "[0, 1, 0, 0, 0, 0, 1, 0, 1, 11, 1, 0, 1, 1, 0, 0, 0, 1, 1, 0, 20, 1, 1, 15, 1, 0, 0, 0, 22, 15, 0, 0]\n",
    "```"
   ]
  }
 ],
 "metadata": {
  "kernelspec": {
   "display_name": "Python 3",
   "language": "python",
   "name": "python3"
  },
  "language_info": {
   "codemirror_mode": {
    "name": "ipython",
    "version": 3
   },
   "file_extension": ".py",
   "mimetype": "text/x-python",
   "name": "python",
   "nbconvert_exporter": "python",
   "pygments_lexer": "ipython3",
   "version": "3.8.5"
  }
 },
 "nbformat": 4,
 "nbformat_minor": 2
}
